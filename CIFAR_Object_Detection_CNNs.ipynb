{
 "cells": [
  {
   "cell_type": "code",
   "execution_count": 1,
   "metadata": {
    "id": "cD3hChBRQYpE"
   },
   "outputs": [],
   "source": [
    "import tensorflow as tf\n",
    "import matplotlib.pyplot as plt"
   ]
  },
  {
   "cell_type": "code",
   "execution_count": 3,
   "metadata": {
    "colab": {
     "base_uri": "https://localhost:8080/"
    },
    "id": "e4PhiWlxQuyk",
    "outputId": "5e1ffd3f-9f3e-4cc2-fbb2-83b2cb79860a"
   },
   "outputs": [
    {
     "name": "stdout",
     "output_type": "stream",
     "text": [
      "Downloading data from https://www.cs.toronto.edu/~kriz/cifar-10-python.tar.gz\n",
      "170500096/170498071 [==============================] - 6s 0us/step\n"
     ]
    }
   ],
   "source": [
    "cifar10 = tf.keras.datasets.cifar10\n",
    "(train_images, train_labels), (val_images, val_labels) = cifar10.load_data()\n",
    "train_images = train_images.reshape(50000, 32, 32, 3)\n",
    "train_images = train_images /255.0\n",
    "val_images = val_images.reshape(10000, 32, 32, 3)\n",
    "val_images = val_images /255.0"
   ]
  },
  {
   "cell_type": "code",
   "execution_count": 21,
   "metadata": {
    "colab": {
     "base_uri": "https://localhost:8080/"
    },
    "id": "f1K2E_c6RUE7",
    "outputId": "97d82134-9456-464e-b405-31d9edb592d7"
   },
   "outputs": [
    {
     "name": "stdout",
     "output_type": "stream",
     "text": [
      "Model: \"sequential_4\"\n",
      "_________________________________________________________________\n",
      "Layer (type)                 Output Shape              Param #   \n",
      "=================================================================\n",
      "conv2d_10 (Conv2D)           (None, 30, 30, 32)        896       \n",
      "_________________________________________________________________\n",
      "max_pooling2d_8 (MaxPooling2 (None, 15, 15, 32)        0         \n",
      "_________________________________________________________________\n",
      "conv2d_11 (Conv2D)           (None, 13, 13, 64)        18496     \n",
      "_________________________________________________________________\n",
      "max_pooling2d_9 (MaxPooling2 (None, 6, 6, 64)          0         \n",
      "_________________________________________________________________\n",
      "conv2d_12 (Conv2D)           (None, 4, 4, 64)          36928     \n",
      "_________________________________________________________________\n",
      "flatten_2 (Flatten)          (None, 1024)              0         \n",
      "_________________________________________________________________\n",
      "dense_8 (Dense)              (None, 64)                65600     \n",
      "_________________________________________________________________\n",
      "dense_9 (Dense)              (None, 10)                650       \n",
      "=================================================================\n",
      "Total params: 122,570\n",
      "Trainable params: 122,570\n",
      "Non-trainable params: 0\n",
      "_________________________________________________________________\n"
     ]
    }
   ],
   "source": [
    "INPUT_LAYER = tf.keras.layers.Conv2D(32, (3,3), activation='relu', input_shape=(32,32,3))\n",
    "HIDDEN_LAYER_1 = tf.keras.layers.MaxPooling2D(2,2)\n",
    "HIDDEN_LAYER_2 = tf.keras.layers.Conv2D(64, (3,3), activation='relu')\n",
    "HIDDEN_LAYER_3 = tf.keras.layers.MaxPooling2D(2,2)\n",
    "HIDDEN_LAYER_4 = tf.keras.layers.Conv2D(64, (3,3), activation='relu')\n",
    "HIDDEN_LAYER_5 = tf.keras.layers.Flatten()\n",
    "HIDDEN_LAYER_6 = tf.keras.layers.Dense(64,activation='relu')\n",
    "OUTPUT_LAYER = tf.keras.layers.Dense(10, activation = 'softmax') \n",
    "\n",
    "model = tf.keras.models.Sequential()\n",
    "model.add(INPUT_LAYER)\n",
    "model.add(HIDDEN_LAYER_1)\n",
    "model.add(HIDDEN_LAYER_2)\n",
    "model.add(HIDDEN_LAYER_3)\n",
    "model.add(HIDDEN_LAYER_4)\n",
    "model.add(HIDDEN_LAYER_5)\n",
    "model.add(HIDDEN_LAYER_6)\n",
    "model.add(OUTPUT_LAYER)\n",
    "model.summary()"
   ]
  },
  {
   "cell_type": "code",
   "execution_count": 22,
   "metadata": {
    "id": "lzOaEi-8Rgn3"
   },
   "outputs": [],
   "source": [
    "LOSS = 'sparse_categorical_crossentropy'\n",
    "NUM_EPOCHS = 20\n",
    "\n",
    "model.compile(optimizer = 'adam',\n",
    "              loss = LOSS,\n",
    "              metrics=['accuracy'])"
   ]
  },
  {
   "cell_type": "code",
   "execution_count": 23,
   "metadata": {
    "colab": {
     "base_uri": "https://localhost:8080/",
     "height": 1000
    },
    "id": "siUSPNFVUuGF",
    "outputId": "01bda5dc-23b4-42a6-98db-0d5b0543381e"
   },
   "outputs": [
    {
     "name": "stdout",
     "output_type": "stream",
     "text": [
      "Epoch 1/20\n",
      "1563/1563 [==============================] - 60s 38ms/step - loss: 1.7937 - accuracy: 0.3314 - val_loss: 1.3273 - val_accuracy: 0.5295\n",
      "Epoch 2/20\n",
      "1563/1563 [==============================] - 60s 38ms/step - loss: 1.2248 - accuracy: 0.5603 - val_loss: 1.1578 - val_accuracy: 0.5957\n",
      "Epoch 3/20\n",
      "1563/1563 [==============================] - 61s 39ms/step - loss: 1.0532 - accuracy: 0.6286 - val_loss: 1.0174 - val_accuracy: 0.6415\n",
      "Epoch 4/20\n",
      "1563/1563 [==============================] - 62s 39ms/step - loss: 0.9436 - accuracy: 0.6683 - val_loss: 0.9709 - val_accuracy: 0.6609\n",
      "Epoch 5/20\n",
      "1563/1563 [==============================] - 61s 39ms/step - loss: 0.8638 - accuracy: 0.6969 - val_loss: 0.9483 - val_accuracy: 0.6660\n",
      "Epoch 6/20\n",
      "1563/1563 [==============================] - 61s 39ms/step - loss: 0.8091 - accuracy: 0.7187 - val_loss: 0.9175 - val_accuracy: 0.6786\n",
      "Epoch 7/20\n",
      "1563/1563 [==============================] - 62s 39ms/step - loss: 0.7432 - accuracy: 0.7406 - val_loss: 0.8685 - val_accuracy: 0.6967\n",
      "Epoch 8/20\n",
      "1563/1563 [==============================] - 62s 40ms/step - loss: 0.7159 - accuracy: 0.7518 - val_loss: 0.9016 - val_accuracy: 0.6895\n",
      "Epoch 9/20\n",
      "1563/1563 [==============================] - 63s 41ms/step - loss: 0.6522 - accuracy: 0.7697 - val_loss: 0.8653 - val_accuracy: 0.7048\n",
      "Epoch 10/20\n",
      "1563/1563 [==============================] - 63s 40ms/step - loss: 0.6196 - accuracy: 0.7824 - val_loss: 0.8890 - val_accuracy: 0.7017\n",
      "Epoch 11/20\n",
      "1563/1563 [==============================] - 63s 41ms/step - loss: 0.5999 - accuracy: 0.7886 - val_loss: 0.8503 - val_accuracy: 0.7102\n",
      "Epoch 12/20\n",
      "1563/1563 [==============================] - 63s 41ms/step - loss: 0.5635 - accuracy: 0.8011 - val_loss: 0.9133 - val_accuracy: 0.7091\n",
      "Epoch 13/20\n",
      "1563/1563 [==============================] - 63s 40ms/step - loss: 0.5318 - accuracy: 0.8113 - val_loss: 0.9078 - val_accuracy: 0.7104\n",
      "Epoch 14/20\n",
      "1563/1563 [==============================] - 63s 40ms/step - loss: 0.5019 - accuracy: 0.8226 - val_loss: 0.9441 - val_accuracy: 0.7007\n",
      "Epoch 15/20\n",
      "1563/1563 [==============================] - 63s 40ms/step - loss: 0.4739 - accuracy: 0.8314 - val_loss: 0.9634 - val_accuracy: 0.6987\n",
      "Epoch 16/20\n",
      "1563/1563 [==============================] - 63s 40ms/step - loss: 0.4504 - accuracy: 0.8412 - val_loss: 0.9475 - val_accuracy: 0.7104\n",
      "Epoch 17/20\n",
      "1563/1563 [==============================] - 63s 40ms/step - loss: 0.4160 - accuracy: 0.8550 - val_loss: 1.0176 - val_accuracy: 0.6938\n",
      "Epoch 18/20\n",
      "1563/1563 [==============================] - 63s 40ms/step - loss: 0.3930 - accuracy: 0.8623 - val_loss: 1.0218 - val_accuracy: 0.7001\n",
      "Epoch 19/20\n",
      "1563/1563 [==============================] - 63s 41ms/step - loss: 0.3692 - accuracy: 0.8690 - val_loss: 1.0576 - val_accuracy: 0.7108\n",
      "Epoch 20/20\n",
      "1563/1563 [==============================] - 68s 44ms/step - loss: 0.3449 - accuracy: 0.8773 - val_loss: 1.1102 - val_accuracy: 0.7042\n"
     ]
    },
    {
     "data": {
      "image/png": "[encoded data removed]",
      "text/plain": [
       "<Figure size 432x288 with 1 Axes>"
      ]
     },
     "metadata": {
      "needs_background": "light",
      "tags": []
     },
     "output_type": "display_data"
    }
   ],
   "source": [
    "history = model.fit(train_images, train_labels, validation_data=(val_images, val_labels), epochs=NUM_EPOCHS)\n",
    "\n",
    "plt.plot(history.history['accuracy'])\n",
    "plt.plot(history.history['val_accuracy'])\n",
    "plt.title('model accuracy')\n",
    "plt.ylabel('accuracy')\n",
    "plt.xlabel('epoch')\n",
    "plt.legend(['train', 'Val'], loc='upper left')\n",
    "plt.xlim([0,NUM_EPOCHS])\n",
    "plt.ylim([0.4,1.0])\n",
    "plt.show()\n"
   ]
  },
  {
   "cell_type": "code",
   "execution_count": null,
   "metadata": {
    "id": "CAh7KobrU-Xj"
   },
   "outputs": [],
   "source": []
  }
 ],
 "metadata": {
  "colab": {
   "name": "CIFAR-Object-Detection_CNNs.ipynb",
   "provenance": []
  },
  "kernelspec": {
   "display_name": "Python 3",
   "language": "python",
   "name": "python3"
  },
  "language_info": {
   "codemirror_mode": {
    "name": "ipython",
    "version": 3
   },
   "file_extension": ".py",
   "mimetype": "text/x-python",
   "name": "python",
   "nbconvert_exporter": "python",
   "pygments_lexer": "ipython3",
   "version": "3.8.3"
  }
 },
 "nbformat": 4,
 "nbformat_minor": 1
}
